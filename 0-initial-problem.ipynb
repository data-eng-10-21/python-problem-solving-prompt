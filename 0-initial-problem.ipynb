{
 "cells": [
  {
   "cell_type": "markdown",
   "id": "3212f7c7-43f0-4fe0-be20-7f77cbaeb7eb",
   "metadata": {},
   "source": [
    "# Our Problem"
   ]
  },
  {
   "cell_type": "markdown",
   "id": "37e31289-bcd9-4f5d-a682-e598a1dfad39",
   "metadata": {},
   "source": [
    "> **Problem**: Write a function that given a list of strings, determines whether there are any duplicates of that string."
   ]
  },
  {
   "cell_type": "markdown",
   "id": "9c2a2531-d386-41b1-9df0-240d784e02f0",
   "metadata": {},
   "source": [
    "### The example"
   ]
  },
  {
   "cell_type": "code",
   "execution_count": 1,
   "id": "e983cbc7-b971-44a9-a010-a1aea5eef2df",
   "metadata": {},
   "outputs": [],
   "source": [
    "numbers = [\"2124443321\", \"2158861321\", \n",
    "           \"8564659988\", \"3121100845\",\n",
    "           \"8564659988\", \"2124443321\"]"
   ]
  },
  {
   "cell_type": "markdown",
   "id": "db3beffc-3e1e-4215-a736-df713cc549a1",
   "metadata": {},
   "source": [
    "This input should produce the following output."
   ]
  },
  {
   "cell_type": "code",
   "execution_count": null,
   "id": "c0b1e04b-8589-4c2d-be1b-2b243080ce29",
   "metadata": {},
   "outputs": [],
   "source": [
    "{\"2124443321\": [0, 5], \"8564659988\": [2, 4]}"
   ]
  },
  {
   "cell_type": "markdown",
   "id": "8ae41431-c3c5-48e7-8118-b6047c406585",
   "metadata": {},
   "source": [
    "So the above returns to us a dictionary where the keys are the duplicate numbers and the values are the list of indices where these duplicates exist."
   ]
  },
  {
   "cell_type": "code",
   "execution_count": null,
   "id": "e6ff85d7-8f5b-48bc-89dc-b6e5cdce12ef",
   "metadata": {},
   "outputs": [],
   "source": []
  }
 ],
 "metadata": {
  "kernelspec": {
   "display_name": "Python 3 (ipykernel)",
   "language": "python",
   "name": "python3"
  },
  "language_info": {
   "codemirror_mode": {
    "name": "ipython",
    "version": 3
   },
   "file_extension": ".py",
   "mimetype": "text/x-python",
   "name": "python",
   "nbconvert_exporter": "python",
   "pygments_lexer": "ipython3",
   "version": "3.9.7"
  }
 },
 "nbformat": 4,
 "nbformat_minor": 5
}
